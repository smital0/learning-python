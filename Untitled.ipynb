{
 "cells": [
  {
   "cell_type": "code",
   "execution_count": 1,
   "metadata": {},
   "outputs": [
    {
     "name": "stdout",
     "output_type": "stream",
     "text": [
      "HEllo, my namE is AlEc and this is a whilE loop.\n"
     ]
    }
   ],
   "source": [
    "string = \"Hello, my name is Alec and this is a while loop.\"\n",
    "\n",
    "#while loop to replace each 'e' with 'E'\n",
    "while string.count('e') > 0:\n",
    "    firstE = string.find('e')\n",
    "    string = string[:firstE] + 'E' + string[firstE+1:]\n",
    "print(string)"
   ]
  },
  {
   "cell_type": "code",
   "execution_count": null,
   "metadata": {},
   "outputs": [],
   "source": []
  },
  {
   "cell_type": "code",
   "execution_count": null,
   "metadata": {},
   "outputs": [],
   "source": [
    "# replace each e with index it is in\n",
    "string = \"Hello, my name is Alec and this is a while loop.\"\n",
    "\n",
    "newString = string\n",
    "\n",
    "while newString.count('e') > 0:\n",
    "    firstEinString = string.find('e')\n",
    "    firstEinNewString = newString.find('e')\n",
    "    \n",
    "    string = string[:firstE] + '_' + string[firstE + 1:]\n",
    "    newString = newString[:firstEinNewString] + str(firstEinString)+ newString[firstE+1:]\n",
    "print(newString)\n"
   ]
  },
  {
   "cell_type": "code",
   "execution_count": null,
   "metadata": {},
   "outputs": [],
   "source": []
  },
  {
   "cell_type": "code",
   "execution_count": null,
   "metadata": {},
   "outputs": [],
   "source": []
  },
  {
   "cell_type": "code",
   "execution_count": null,
   "metadata": {},
   "outputs": [],
   "source": []
  }
 ],
 "metadata": {
  "kernelspec": {
   "display_name": "Python 3",
   "language": "python",
   "name": "python3"
  },
  "language_info": {
   "codemirror_mode": {
    "name": "ipython",
    "version": 3
   },
   "file_extension": ".py",
   "mimetype": "text/x-python",
   "name": "python",
   "nbconvert_exporter": "python",
   "pygments_lexer": "ipython3",
   "version": "3.7.6"
  }
 },
 "nbformat": 4,
 "nbformat_minor": 4
}

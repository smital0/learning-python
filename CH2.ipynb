{
 "cells": [
  {
   "cell_type": "markdown",
   "metadata": {},
   "source": [
    "## print(((25+15)*(30-7))**3 - (6478%267))\n",
    "print(34567**1/5)\n",
    "print(2**345678)"
   ]
  },
  {
   "cell_type": "code",
   "execution_count": 25,
   "metadata": {},
   "outputs": [
    {
     "name": "stdout",
     "output_type": "stream",
     "text": [
      "6.23606797749979\n"
     ]
    }
   ],
   "source": [
    "import math\n",
    "a = 5 + 2j\n",
    "print(math.sqrt(5)+2**2)"
   ]
  },
  {
   "cell_type": "code",
   "execution_count": 26,
   "metadata": {},
   "outputs": [
    {
     "data": {
      "text/plain": [
       "10.0"
      ]
     },
     "execution_count": 26,
     "metadata": {},
     "output_type": "execute_result"
    }
   ],
   "source": [
    "import math\n",
    "math.factorial(10)\n",
    "math.floor(3.4)\n",
    "math.gcd(10,3)\n",
    "math.sqrt(16)\n",
    "math.exp(2)\n",
    "math.cos(0)\n",
    "math.degrees(1)\n",
    "math.tan(10)\n",
    "math.remainder(10,3)\n",
    "math.fabs(-10)"
   ]
  },
  {
   "cell_type": "code",
   "execution_count": 32,
   "metadata": {},
   "outputs": [
    {
     "data": {
      "text/plain": [
       "30.0"
      ]
     },
     "execution_count": 32,
     "metadata": {},
     "output_type": "execute_result"
    }
   ],
   "source": [
    "f = 86\n",
    "c = (f - 32)*5/9\n",
    "c"
   ]
  },
  {
   "cell_type": "code",
   "execution_count": 33,
   "metadata": {},
   "outputs": [
    {
     "data": {
      "text/plain": [
       "-40.0"
      ]
     },
     "execution_count": 33,
     "metadata": {},
     "output_type": "execute_result"
    }
   ],
   "source": [
    "c = -40\n",
    "f = (c*9/5) + 32\n",
    "f"
   ]
  },
  {
   "cell_type": "code",
   "execution_count": 42,
   "metadata": {},
   "outputs": [
    {
     "data": {
      "text/plain": [
       "245.04422698000386"
      ]
     },
     "execution_count": 42,
     "metadata": {},
     "output_type": "execute_result"
    }
   ],
   "source": [
    "import math\n",
    "from math import pi\n",
    "def volume(height,radius):\n",
    "    return pi * radius**2 * height\n",
    "volume(10,3)\n",
    "def surfaceArea(height,radius):\n",
    "    return (2 * pi * radius * height) + 2 * pi * radius**2\n",
    "surfaceArea(10,3)"
   ]
  },
  {
   "cell_type": "code",
   "execution_count": 45,
   "metadata": {},
   "outputs": [
    {
     "data": {
      "text/plain": [
       "22.22"
      ]
     },
     "execution_count": 45,
     "metadata": {},
     "output_type": "execute_result"
    }
   ],
   "source": [
    "def tip(subTotal,rate):\n",
    "    return subTotal * rate\n",
    "tip(101,.22)"
   ]
  },
  {
   "cell_type": "code",
   "execution_count": 58,
   "metadata": {},
   "outputs": [
    {
     "data": {
      "text/plain": [
       "200.80071111111107"
      ]
     },
     "execution_count": 58,
     "metadata": {},
     "output_type": "execute_result"
    }
   ],
   "source": [
    "def savings(n):\n",
    "    accountBalance = 0\n",
    "    for i in range(n):\n",
    "        accountBalance = (100 + accountBalance) * (1+(0.032/12))\n",
    "    return accountBalance\n",
    "savings(2)"
   ]
  },
  {
   "cell_type": "code",
   "execution_count": 62,
   "metadata": {},
   "outputs": [
    {
     "ename": "SyntaxError",
     "evalue": "invalid syntax (<ipython-input-62-e9cf5880ec87>, line 6)",
     "output_type": "error",
     "traceback": [
      "\u001b[0;36m  File \u001b[0;32m\"<ipython-input-62-e9cf5880ec87>\"\u001b[0;36m, line \u001b[0;32m6\u001b[0m\n\u001b[0;31m    def perimeter(sides,length):\u001b[0m\n\u001b[0m      ^\u001b[0m\n\u001b[0;31mSyntaxError\u001b[0m\u001b[0;31m:\u001b[0m invalid syntax\n"
     ]
    }
   ],
   "source": [
    "import math\n",
    "from math import tan \n",
    "def area(sides,length):\n",
    "    return (length/2*tan(180/sides)\n",
    "            \n",
    "def perimeter(sides,length):\n",
    "    return sides * length\n",
    "perimeter(10,2)"
   ]
  },
  {
   "cell_type": "code",
   "execution_count": 67,
   "metadata": {},
   "outputs": [
    {
     "name": "stdout",
     "output_type": "stream",
     "text": [
      "5.0\n",
      "0.0\n"
     ]
    }
   ],
   "source": [
    "def division(a,b):\n",
    "    print(a/b) \n",
    "    print(math.remainder(a,b)) \n",
    "\n",
    "division(10,2)"
   ]
  },
  {
   "cell_type": "code",
   "execution_count": null,
   "metadata": {},
   "outputs": [],
   "source": []
  }
 ],
 "metadata": {
  "kernelspec": {
   "display_name": "Python 3",
   "language": "python",
   "name": "python3"
  },
  "language_info": {
   "codemirror_mode": {
    "name": "ipython",
    "version": 3
   },
   "file_extension": ".py",
   "mimetype": "text/x-python",
   "name": "python",
   "nbconvert_exporter": "python",
   "pygments_lexer": "ipython3",
   "version": "3.7.6"
  }
 },
 "nbformat": 4,
 "nbformat_minor": 4
}

{
 "cells": [
  {
   "cell_type": "code",
   "execution_count": 1,
   "metadata": {},
   "outputs": [
    {
     "name": "stdout",
     "output_type": "stream",
     "text": [
      "HEllo, my namE is AlEc and this is a whilE loop.\n"
     ]
    }
   ],
   "source": [
    "string = \"Hello, my name is Alec and this is a while loop.\"\n",
    "\n",
    "#while loop to replace each 'e' with 'E'\n",
    "while string.count('e') > 0:\n",
    "    firstE = string.find('e')\n",
    "    string = string[:firstE] + 'E' + string[firstE+1:]\n",
    "print(string)"
   ]
  },
  {
   "cell_type": "code",
   "execution_count": 2,
   "metadata": {},
   "outputs": [
    {
     "name": "stdout",
     "output_type": "stream",
     "text": [
      "0\n",
      "1\n",
      "2\n"
     ]
    }
   ],
   "source": [
    "i = 0\n",
    "while i < 3:\n",
    "    print(i)\n",
    "    i = i + 1"
   ]
  },
  {
   "cell_type": "markdown",
   "metadata": {},
   "source": [
    "## break statement"
   ]
  },
  {
   "cell_type": "code",
   "execution_count": 4,
   "metadata": {},
   "outputs": [
    {
     "name": "stdout",
     "output_type": "stream",
     "text": [
      "0\n",
      "1\n",
      "2\n",
      "3\n",
      "4\n"
     ]
    }
   ],
   "source": [
    "i = 0\n",
    "while i < 10:\n",
    "    print(i)\n",
    "    if i == 4:\n",
    "        break\n",
    "    i += 1"
   ]
  },
  {
   "cell_type": "markdown",
   "metadata": {},
   "source": [
    "### break-else"
   ]
  },
  {
   "cell_type": "code",
   "execution_count": 7,
   "metadata": {},
   "outputs": [
    {
     "name": "stdout",
     "output_type": "stream",
     "text": [
      "nope\n"
     ]
    }
   ],
   "source": [
    "i = 4\n",
    "if i < 3:\n",
    "    print('yippee')\n",
    "else:\n",
    "    print('nope')"
   ]
  },
  {
   "cell_type": "code",
   "execution_count": 8,
   "metadata": {},
   "outputs": [
    {
     "name": "stdout",
     "output_type": "stream",
     "text": [
      "0\n",
      "1\n",
      "2\n",
      "3\n",
      "4\n",
      "I always execute\n"
     ]
    }
   ],
   "source": [
    "i = 0\n",
    "while i < 10:\n",
    "    print(i)\n",
    "    i += 1\n",
    "    if i == 5:\n",
    "        break\n",
    "else:\n",
    "    print('the loop didnt break')\n",
    "\n",
    "print('I always execute')"
   ]
  },
  {
   "cell_type": "markdown",
   "metadata": {},
   "source": [
    "## continue"
   ]
  },
  {
   "cell_type": "code",
   "execution_count": 11,
   "metadata": {},
   "outputs": [
    {
     "name": "stdout",
     "output_type": "stream",
     "text": [
      "1\n",
      "2\n",
      "3\n",
      "4\n",
      "6\n",
      "7\n",
      "8\n",
      "9\n",
      "10\n"
     ]
    }
   ],
   "source": [
    "#used to skip iterations- restart the loop\n",
    "i = 0\n",
    "while i < 10:\n",
    "    i += 1\n",
    "    if i == 5:\n",
    "        continue\n",
    "    print(i)"
   ]
  },
  {
   "cell_type": "markdown",
   "metadata": {},
   "source": [
    "# Exercises"
   ]
  },
  {
   "cell_type": "code",
   "execution_count": 62,
   "metadata": {},
   "outputs": [
    {
     "name": "stdout",
     "output_type": "stream",
     "text": [
      "Score? 0\n",
      "Roll: 2\n",
      "Roll: 5\n",
      "Roll: 2\n",
      "Roll: 6\n",
      "Roll: 4\n",
      "Roll: 6\n",
      "Turn total: 25\n",
      "New Score: 25\n"
     ]
    }
   ],
   "source": [
    "# Pig game\n",
    "import random\n",
    "turnTotal = 0\n",
    "score = int(input(\"Score? \"))\n",
    "while turnTotal <= 20 and score <= 100:\n",
    "    roll = random.randint(1,6)\n",
    "    print(f\"Roll: {roll}\")\n",
    "    if roll == 1:\n",
    "        turnTotal = 0\n",
    "        break\n",
    "    else:\n",
    "        turnTotal += roll\n",
    "\n",
    "score += turnTotal\n",
    "\n",
    "print(f\"Turn total: {turnTotal}\")\n",
    "print(f\"New Score: {score}\")\n",
    "    "
   ]
  },
  {
   "cell_type": "code",
   "execution_count": 128,
   "metadata": {},
   "outputs": [
    {
     "name": "stdout",
     "output_type": "stream",
     "text": [
      "Roll: 4\n",
      "Roll: 5\n",
      "Roll: 2\n",
      "Roll: 4\n",
      "Roll: 6\n",
      "Turn total: 21\n",
      "New Score: 21\n",
      "Roll: 4\n",
      "Roll: 5\n",
      "Roll: 2\n",
      "Roll: 4\n",
      "Roll: 4\n",
      "Roll: 4\n",
      "Turn total: 23\n",
      "New Score: 44\n",
      "Roll: 2\n",
      "Roll: 3\n",
      "Roll: 1\n",
      "Turn total: 0\n",
      "New Score: 44\n",
      "Roll: 1\n",
      "Turn total: 0\n",
      "New Score: 44\n",
      "Roll: 2\n",
      "Roll: 1\n",
      "Turn total: 0\n",
      "New Score: 44\n",
      "Roll: 3\n",
      "Roll: 5\n",
      "Roll: 5\n",
      "Roll: 1\n",
      "Turn total: 0\n",
      "New Score: 44\n",
      "Roll: 4\n",
      "Roll: 2\n",
      "Roll: 2\n",
      "Roll: 3\n",
      "Roll: 1\n",
      "Turn total: 0\n",
      "New Score: 44\n",
      "Roll: 6\n",
      "Roll: 3\n",
      "Roll: 6\n",
      "Roll: 5\n",
      "Turn total: 20\n",
      "New Score: 64\n",
      "Roll: 3\n",
      "Roll: 5\n",
      "Roll: 2\n",
      "Roll: 3\n",
      "Roll: 5\n",
      "Roll: 6\n",
      "Turn total: 24\n",
      "New Score: 88\n",
      "Roll: 1\n",
      "Turn total: 0\n",
      "New Score: 88\n",
      "Roll: 4\n",
      "Roll: 5\n",
      "Roll: 2\n",
      "Roll: 3\n",
      "Roll: 4\n",
      "Roll: 4\n",
      "Turn total: 22\n",
      "New Score: 110\n",
      "The number of terms was 11\n"
     ]
    }
   ],
   "source": [
    "# Pig game updated\n",
    "import random\n",
    "score = 0\n",
    "turnTotal = 0\n",
    "numberTurns = 0\n",
    "\n",
    "while score <= 100:\n",
    "\n",
    "    roll = random.randint(1,6)\n",
    "    print(f\"Roll: {roll}\")\n",
    "        \n",
    "    if roll == 1:\n",
    "        turnTotal = 0\n",
    "        print(f\"Turn total: {turnTotal}\")\n",
    "        print(f\"New Score: {score}\")\n",
    "        numberTurns += 1\n",
    "\n",
    "    else:\n",
    "        turnTotal += roll\n",
    "        \n",
    "    if turnTotal >= 20:\n",
    "        score += turnTotal\n",
    "        print(f\"Turn total: {turnTotal}\")\n",
    "        print(f\"New Score: {score}\")\n",
    "        turnTotal = 0\n",
    "        numberTurns += 1\n",
    "        \n",
    "print(f\"The number of terms was {numberTurns}\")\n",
    "    \n",
    "   "
   ]
  },
  {
   "cell_type": "code",
   "execution_count": 130,
   "metadata": {},
   "outputs": [
    {
     "name": "stdout",
     "output_type": "stream",
     "text": [
      "Games? 1000\n",
      "Average number of turns: 13.419\n"
     ]
    }
   ],
   "source": [
    "# calculating avg number of turns\n",
    "import random\n",
    "\n",
    "n = int(input(\"Games? \"))\n",
    "numberTurns = 0\n",
    "\n",
    "for i in range(n):\n",
    "    turnTotal = 0\n",
    "    score = 0\n",
    "    while score <= 100:\n",
    "        roll = random.randint(1,6)\n",
    "        if roll == 1:\n",
    "            turnTotal = 0\n",
    "            numberTurns += 1\n",
    "        else:\n",
    "            turnTotal += roll\n",
    "            \n",
    "        if turnTotal >= 20:\n",
    "            score += turnTotal\n",
    "            turnTotal = 0\n",
    "            numberTurns += 1\n",
    "            \n",
    "avg = numberTurns / n\n",
    "print(f\"Average number of turns: {avg}\")\n"
   ]
  },
  {
   "cell_type": "code",
   "execution_count": 137,
   "metadata": {},
   "outputs": [
    {
     "name": "stdout",
     "output_type": "stream",
     "text": [
      "Player 1 score: 0 \n",
      "Player 2 score: 0 \n",
      "It is Player 1's turn\n",
      "Roll: 3\n",
      "Roll: 3\n",
      "Roll: 5\n",
      "Roll: 3\n",
      "Roll: 4\n",
      "Roll: 4\n",
      "Turn total: 22\n",
      "New Score: 22\n",
      "Player 1 score: 22 \n",
      "Player 2 score: 0 \n",
      "It is Player 2's turn.\n",
      "Roll: 3\n",
      "Roll: 5\n",
      "Roll: 5\n",
      "Roll: 6\n",
      "Roll: 6\n",
      "Turn total: 25\n",
      "New Score: 25\n",
      "Player 1 score: 22 \n",
      "Player 2 score: 25 \n",
      "It is Player 1's turn.\n",
      "Roll: 2\n",
      "Roll: 1\n",
      "Turn total: 0\n",
      "New Score: 22\n",
      "Player 1 score: 22 \n",
      "Player 2 score: 25 \n",
      "It is Player 2's turn.\n",
      "Roll: 1\n",
      "Turn total: 0\n",
      "New Score: 25\n",
      "Player 1 score: 22 \n",
      "Player 2 score: 25 \n",
      "It is Player 1's turn.\n",
      "Roll: 2\n",
      "Roll: 4\n",
      "Roll: 3\n",
      "Roll: 4\n",
      "Roll: 4\n",
      "Roll: 2\n",
      "Roll: 6\n",
      "Turn total: 25\n",
      "New Score: 47\n",
      "Player 1 score: 47 \n",
      "Player 2 score: 25 \n",
      "It is Player 2's turn.\n",
      "Roll: 3\n",
      "Roll: 3\n",
      "Roll: 2\n",
      "Roll: 6\n",
      "Roll: 3\n",
      "Roll: 5\n",
      "Turn total: 22\n",
      "New Score: 47\n",
      "Player 1 score: 47 \n",
      "Player 2 score: 47 \n",
      "It is Player 1's turn.\n",
      "Roll: 5\n",
      "Roll: 6\n",
      "Roll: 1\n",
      "Turn total: 0\n",
      "New Score: 47\n",
      "Player 1 score: 47 \n",
      "Player 2 score: 47 \n",
      "It is Player 2's turn.\n",
      "Roll: 6\n",
      "Roll: 3\n",
      "Roll: 5\n",
      "Roll: 5\n",
      "Roll: 2\n",
      "Turn total: 21\n",
      "New Score: 68\n",
      "Player 1 score: 47 \n",
      "Player 2 score: 68 \n",
      "It is Player 1's turn.\n",
      "Roll: 6\n",
      "Roll: 4\n",
      "Roll: 1\n",
      "Turn total: 0\n",
      "New Score: 47\n",
      "Player 1 score: 47 \n",
      "Player 2 score: 68 \n",
      "It is Player 2's turn.\n",
      "Roll: 2\n",
      "Roll: 2\n",
      "Roll: 2\n",
      "Roll: 3\n",
      "Roll: 4\n",
      "Roll: 3\n",
      "Roll: 3\n",
      "Roll: 2\n",
      "Turn total: 21\n",
      "New Score: 89\n",
      "Player 1 score: 47 \n",
      "Player 2 score: 89 \n",
      "It is Player 1's turn.\n",
      "Roll: 2\n",
      "Roll: 4\n",
      "Roll: 4\n",
      "Roll: 1\n",
      "Turn total: 0\n",
      "New Score: 47\n",
      "Player 1 score: 47 \n",
      "Player 2 score: 89 \n",
      "It is Player 2's turn.\n",
      "Roll: 6\n",
      "Roll: 1\n",
      "Turn total: 0\n",
      "New Score: 89\n",
      "Player 1 score: 47 \n",
      "Player 2 score: 89 \n",
      "It is Player 1's turn.\n",
      "Roll: 4\n",
      "Roll: 6\n",
      "Roll: 1\n",
      "Turn total: 0\n",
      "New Score: 47\n",
      "Player 1 score: 47 \n",
      "Player 2 score: 89 \n",
      "It is Player 2's turn.\n",
      "Roll: 5\n",
      "Roll: 2\n",
      "Roll: 4\n",
      "Roll: 1\n",
      "Turn total: 0\n",
      "New Score: 89\n",
      "Player 1 score: 47 \n",
      "Player 2 score: 89 \n",
      "It is Player 1's turn.\n",
      "Roll: 5\n",
      "Roll: 4\n",
      "Roll: 4\n",
      "Roll: 1\n",
      "Turn total: 0\n",
      "New Score: 47\n",
      "Player 1 score: 47 \n",
      "Player 2 score: 89 \n",
      "It is Player 2's turn.\n",
      "Roll: 4\n",
      "Roll: 1\n",
      "Turn total: 0\n",
      "New Score: 89\n",
      "Player 1 score: 47 \n",
      "Player 2 score: 89 \n",
      "It is Player 1's turn.\n",
      "Roll: 4\n",
      "Roll: 5\n",
      "Roll: 2\n",
      "Roll: 6\n",
      "Roll: 6\n",
      "Turn total: 23\n",
      "New Score: 70\n",
      "Player 1 score: 70 \n",
      "Player 2 score: 89 \n",
      "It is Player 2's turn.\n",
      "Roll: 5\n",
      "Roll: 1\n",
      "Turn total: 0\n",
      "New Score: 89\n",
      "Player 1 score: 70 \n",
      "Player 2 score: 89 \n",
      "It is Player 1's turn.\n",
      "Roll: 5\n",
      "Roll: 5\n",
      "Roll: 6\n",
      "Roll: 1\n",
      "Turn total: 0\n",
      "New Score: 70\n",
      "Player 1 score: 70 \n",
      "Player 2 score: 89 \n",
      "It is Player 2's turn.\n",
      "Roll: 3\n",
      "Roll: 6\n",
      "Roll: 3\n",
      "Roll: 2\n",
      "Roll: 6\n",
      "Turn total: 20\n",
      "New Score: 109\n",
      "Player 1 score: 70 \n",
      "Player 2 score: 109 \n",
      "Player 2 Wins!\n"
     ]
    }
   ],
   "source": [
    "# Pig game alternating players\n",
    "import random\n",
    "\n",
    "turnTotal = 0\n",
    "playerOneScore = 0\n",
    "playerTwoScore = 0\n",
    "currentPlayer = 1\n",
    "\n",
    "print(f\"Player 1 score: {playerOneScore} \")\n",
    "print(f\"Player 2 score: {playerTwoScore} \")\n",
    "print(\"It is Player 1's turn\")\n",
    "\n",
    "while playerOneScore <= 100 and playerTwoScore <= 100:\n",
    "\n",
    "    if currentPlayer == 1:\n",
    "        \n",
    "        roll = random.randint(1,6)\n",
    "        print(f\"Roll: {roll}\")\n",
    "\n",
    "        if roll == 1:\n",
    "            turnTotal = 0\n",
    "            print(f\"Turn total: {turnTotal}\")\n",
    "            print(f\"New Score: {playerOneScore}\")\n",
    "            print(f\"Player 1 score: {playerOneScore} \")\n",
    "            print(f\"Player 2 score: {playerTwoScore} \")\n",
    "            print(\"It is Player 2's turn.\")\n",
    "            currentPlayer = currentPlayer * -1\n",
    "\n",
    "        else:\n",
    "            turnTotal += roll\n",
    "\n",
    "        if turnTotal >= 20:\n",
    "            playerOneScore += turnTotal\n",
    "            print(f\"Turn total: {turnTotal}\")\n",
    "            print(f\"New Score: {playerOneScore}\")\n",
    "            print(f\"Player 1 score: {playerOneScore} \")\n",
    "            print(f\"Player 2 score: {playerTwoScore} \")\n",
    "            \n",
    "            if playerOneScore >= 100:\n",
    "                print(\"Player 1 Wins!\")\n",
    "            else:\n",
    "                print(\"It is Player 2's turn.\")\n",
    "                turnTotal = 0\n",
    "                currentPlayer = currentPlayer * -1\n",
    "            \n",
    "    else: \n",
    "        \n",
    "        roll = random.randint(1,6)\n",
    "        print(f\"Roll: {roll}\")\n",
    "\n",
    "        if roll == 1:\n",
    "            turnTotal = 0\n",
    "            print(f\"Turn total: {turnTotal}\")\n",
    "            print(f\"New Score: {playerTwoScore}\")\n",
    "            print(f\"Player 1 score: {playerOneScore} \")\n",
    "            print(f\"Player 2 score: {playerTwoScore} \")\n",
    "            print(\"It is Player 1's turn.\")\n",
    "            currentPlayer = currentPlayer * -1\n",
    "\n",
    "        else:\n",
    "            turnTotal += roll\n",
    "\n",
    "        if turnTotal >= 20:\n",
    "            playerTwoScore += turnTotal\n",
    "            print(f\"Turn total: {turnTotal}\")\n",
    "            print(f\"New Score: {playerTwoScore}\")\n",
    "            print(f\"Player 1 score: {playerOneScore} \")\n",
    "            print(f\"Player 2 score: {playerTwoScore} \")\n",
    "            \n",
    "            if playerTwoScore >= 100:\n",
    "                print(\"Player 2 Wins!\")\n",
    "            else:\n",
    "                print(\"It is Player 1's turn.\")\n",
    "                turnTotal = 0\n",
    "                currentPlayer = currentPlayer * -1\n"
   ]
  },
  {
   "cell_type": "code",
   "execution_count": 155,
   "metadata": {},
   "outputs": [
    {
     "name": "stdout",
     "output_type": "stream",
     "text": [
      "Games? 1\n",
      "Probability of first player win: 100.0\n"
     ]
    }
   ],
   "source": [
    "import random\n",
    "n = int(input(\"Games? \"))\n",
    "gamesWon = 0\n",
    "\n",
    "for i in range(n):\n",
    "    \n",
    "    turnTotal = 0\n",
    "    playerOneScore = 0\n",
    "    playerTwoScore = 0\n",
    "    currentPlayer = 1\n",
    "\n",
    "    while playerOneScore <= 100 and playerTwoScore <= 100:\n",
    "\n",
    "        if currentPlayer == 1:\n",
    "            roll = random.randint(1,6)\n",
    "\n",
    "            if roll == 1:\n",
    "                turnTotal = 0\n",
    "                currentPlayer = currentPlayer * -1\n",
    "            else:\n",
    "                turnTotal += roll\n",
    "\n",
    "            if turnTotal >= 20:\n",
    "                playerOneScore += turnTotal\n",
    "\n",
    "                if playerOneScore >= 100:\n",
    "                    gamesWon += 1\n",
    "                    \n",
    "                else:\n",
    "                    turnTotal = 0\n",
    "                    currentPlayer = currentPlayer * -1\n",
    "\n",
    "        else: \n",
    "            roll = random.randint(1,6)\n",
    "\n",
    "            if roll == 1:\n",
    "                turnTotal = 0\n",
    "                currentPlayer = currentPlayer * -1\n",
    "            else:\n",
    "                turnTotal += roll\n",
    "\n",
    "            if turnTotal >= 20:\n",
    "                playerTwoScore += turnTotal\n",
    "\n",
    "                if playerTwoScore >= 100:\n",
    "                    gamesWon += 0\n",
    "\n",
    "                else:\n",
    "                    turnTotal = 0\n",
    "                    currentPlayer = currentPlayer * -1\n",
    "\n",
    "prob = ( gamesWon / n ) * 100\n",
    "print(f\"Probability of first player win: {prob}\" )"
   ]
  },
  {
   "cell_type": "code",
   "execution_count": 19,
   "metadata": {},
   "outputs": [
    {
     "data": {
      "text/plain": [
       "5"
      ]
     },
     "execution_count": 19,
     "metadata": {},
     "output_type": "execute_result"
    }
   ],
   "source": [
    "def gcd(a,b):\n",
    "    if b > 0:\n",
    "        return gcd(b, a%b)\n",
    "    else:\n",
    "        return a\n",
    "\n",
    "#gcd(10,5)\n",
    "gcd(12345,1000)"
   ]
  },
  {
   "cell_type": "markdown",
   "metadata": {},
   "source": [
    "# Do while loop"
   ]
  },
  {
   "cell_type": "code",
   "execution_count": 2,
   "metadata": {},
   "outputs": [
    {
     "name": "stdout",
     "output_type": "stream",
     "text": [
      "Enter an integer: -5\n",
      "-5\n",
      "-4\n",
      "-3\n",
      "-2\n",
      "-1\n",
      "0\n",
      "1\n",
      "2\n"
     ]
    }
   ],
   "source": [
    "i = int(input(\"Enter an integer: \"))\n",
    "while i < 3:\n",
    "    b = True\n",
    "    if b == True:\n",
    "        print(i)\n",
    "        i += 1\n"
   ]
  },
  {
   "cell_type": "markdown",
   "metadata": {},
   "source": [
    "# Exercise 9"
   ]
  },
  {
   "cell_type": "code",
   "execution_count": 77,
   "metadata": {},
   "outputs": [
    {
     "name": "stdout",
     "output_type": "stream",
     "text": [
      "3\n",
      "12\n",
      "30\n",
      "50\n",
      "300\n",
      "300\n"
     ]
    }
   ],
   "source": []
  },
  {
   "cell_type": "code",
   "execution_count": 94,
   "metadata": {},
   "outputs": [
    {
     "name": "stdout",
     "output_type": "stream",
     "text": [
      "3\n",
      "12\n",
      "2\n",
      "1\n",
      "321\n"
     ]
    }
   ],
   "source": [
    "\n",
    "\n",
    "    "
   ]
  },
  {
   "cell_type": "code",
   "execution_count": 9,
   "metadata": {},
   "outputs": [
    {
     "name": "stdout",
     "output_type": "stream",
     "text": [
      "i is 123\n",
      "a is 3\n",
      "i is 12\n",
      "a is 2\n",
      "i is 1\n",
      "i is 0\n"
     ]
    }
   ],
   "source": [
    "\n",
    "\n"
   ]
  },
  {
   "cell_type": "code",
   "execution_count": 47,
   "metadata": {},
   "outputs": [
    {
     "name": "stdout",
     "output_type": "stream",
     "text": [
      "Enter a number: 123456\n",
      "a is 6\n",
      "i is 12345\n",
      "Result is 6\n",
      "a is 5\n",
      "i is 1234\n",
      "Result is 65\n",
      "a is 4\n",
      "i is 123\n",
      "Result is 654\n",
      "a is 3\n",
      "i is 12\n",
      "Result is 6543\n",
      "a is 2\n",
      "i is 1\n",
      "Result is 65432\n",
      "a is 1\n",
      "i is 0\n",
      "Result is 654321\n",
      "The reverse is 654321!\n"
     ]
    }
   ],
   "source": [
    "i = int(input(\"Enter a number: \"))\n",
    "\n",
    "result = 0\n",
    "while i > 0: \n",
    "    a = (i % 10) # Gives last number \n",
    "    print(f\"a is {a}\")\n",
    "    i = i // 10 # Cuts off last number\n",
    "    print(f\"i is {i}\")\n",
    "    result = result*10 + a\n",
    "    print(f\"Result is {result}\")\n",
    "\n",
    "print(f\"The reverse is {result}!\")\n",
    "          \n",
    "\n",
    "\n"
   ]
  },
  {
   "cell_type": "markdown",
   "metadata": {},
   "source": [
    "# Exercise 10"
   ]
  },
  {
   "cell_type": "code",
   "execution_count": 118,
   "metadata": {},
   "outputs": [
    {
     "name": "stdout",
     "output_type": "stream",
     "text": [
      "Guess? 2\n",
      "Too low\n",
      "Try Again: 3\n",
      "Too low\n",
      "Try Again: 4\n",
      "Too low\n",
      "Try Again: 5\n",
      "Too low\n",
      "Try Again: 7\n",
      "Correct!\n"
     ]
    }
   ],
   "source": [
    "import random\n",
    "rand = random.randint(0,10)\n",
    "guess = int(input(\"Guess? \"))\n",
    "\n",
    "while rand != guess:\n",
    "    if guess > rand:\n",
    "        print(\"Too high\")\n",
    "    else: \n",
    "        print(\"Too low\")  \n",
    "\n",
    "    guess = int(input(\"Try Again: \"))\n",
    "    \n",
    "    \n",
    "print(\"Correct!\")"
   ]
  },
  {
   "cell_type": "markdown",
   "metadata": {},
   "source": [
    "# Exercise 11/12"
   ]
  },
  {
   "cell_type": "code",
   "execution_count": 52,
   "metadata": {},
   "outputs": [
    {
     "name": "stdout",
     "output_type": "stream",
     "text": [
      "66 + 9 = 78\n",
      "Wrong. Try again: 66 + 9 =  78\n",
      "Wrong. Try again: 66 + 9 =  78\n",
      "Wrong. Try again: 66 + 9 =  78\n",
      "Wrong. Try again: 66 + 9 =  78\n",
      "Nope! You need to study some more!\n"
     ]
    }
   ],
   "source": [
    "import random\n",
    "randOne = random.randint(0,100)\n",
    "randTwo = random.randint(0,100)\n",
    "add = randOne + randTwo\n",
    "guess = int(input(f\"{randOne} + {randTwo} = \"))\n",
    "numGuess = 1\n",
    "\n",
    "while guess != add:\n",
    "    guess = int(input(f\"Wrong. Try again: {randOne} + {randTwo} =  \"))\n",
    "    numGuess += 1\n",
    "    \n",
    "    if numGuess > 4:\n",
    "        print(\"Nope! You need to study some more!\")\n",
    "        break\n",
    "    \n",
    "else:\n",
    "    print(f\"Correct in {numGuess} tries!\")"
   ]
  },
  {
   "cell_type": "markdown",
   "metadata": {},
   "source": [
    "# Exercise 13"
   ]
  },
  {
   "cell_type": "code",
   "execution_count": 134,
   "metadata": {},
   "outputs": [
    {
     "name": "stdout",
     "output_type": "stream",
     "text": [
      "Both Heads: ********************\n",
      "Both Tails: *****************\n",
      "One of Each: ****************************************************************\n"
     ]
    }
   ],
   "source": [
    "import random\n",
    "random.seed(0)\n",
    "\n",
    "bothHeads = 0\n",
    "bothTails = 0\n",
    "oneEach = 0\n",
    "\n",
    "for i in range(101):\n",
    "    \n",
    "    flip = random.randint(0,4)\n",
    "    \n",
    "    if flip == 0:\n",
    "        bothHeads += 1\n",
    "    elif flip == 1: \n",
    "        bothTails += 1   \n",
    "    else: \n",
    "        oneEach += 1\n",
    "        \n",
    "print(\"Both Heads: \" + '*' * bothHeads)\n",
    "print(\"Both Tails: \" + '*' * bothTails)\n",
    "print(\"One of Each: \" + '*' * oneEach)\n",
    "        "
   ]
  },
  {
   "cell_type": "markdown",
   "metadata": {},
   "source": [
    "# Exercise 14"
   ]
  },
  {
   "cell_type": "code",
   "execution_count": 149,
   "metadata": {},
   "outputs": [
    {
     "name": "stdout",
     "output_type": "stream",
     "text": [
      "3\n",
      "1\n",
      "3\n",
      "2\n",
      "0\n",
      "3\n",
      "2\n",
      "4\n",
      "4\n",
      "5\n",
      "3\n",
      "6\n",
      "3\n",
      "7\n",
      "2\n",
      "8\n",
      "3\n",
      "9\n",
      "2\n",
      "10\n",
      "4\n",
      "11\n",
      "1\n",
      "12\n",
      "4\n",
      "13\n",
      "1\n",
      "14\n",
      "2\n",
      "15\n",
      "1\n",
      "16\n",
      "0\n",
      "17\n",
      "4\n",
      "18\n",
      "2\n",
      "19\n",
      "4\n",
      "20\n",
      "4\n",
      "21\n",
      "1\n",
      "22\n",
      "2\n",
      "23\n",
      "0\n",
      "24\n",
      "0\n",
      "25\n",
      "2\n",
      "26\n",
      "3\n",
      "27\n",
      "4\n",
      "28\n",
      "0\n",
      "29\n",
      "2\n",
      "30\n",
      "3\n",
      "31\n",
      "2\n",
      "32\n",
      "4\n",
      "33\n",
      "1\n",
      "34\n",
      "4\n",
      "35\n",
      "3\n",
      "36\n",
      "3\n",
      "37\n",
      "4\n",
      "38\n",
      "2\n",
      "39\n",
      "0\n",
      "40\n",
      "4\n",
      "41\n",
      "0\n",
      "42\n",
      "0\n",
      "43\n",
      "3\n",
      "44\n",
      "0\n",
      "45\n",
      "4\n",
      "46\n",
      "3\n",
      "47\n",
      "2\n",
      "48\n",
      "1\n",
      "49\n",
      "2\n",
      "50\n",
      "0\n",
      "51\n",
      "1\n",
      "52\n",
      "4\n",
      "53\n",
      "1\n",
      "54\n",
      "1\n",
      "55\n",
      "1\n",
      "56\n",
      "4\n",
      "57\n",
      "3\n",
      "58\n",
      "0\n",
      "59\n",
      "0\n",
      "60\n",
      "2\n",
      "61\n",
      "4\n",
      "62\n",
      "3\n",
      "63\n",
      "0\n",
      "64\n",
      "2\n",
      "65\n",
      "4\n",
      "66\n",
      "2\n",
      "67\n",
      "0\n",
      "68\n",
      "4\n",
      "69\n",
      "2\n",
      "70\n",
      "4\n",
      "71\n",
      "1\n",
      "72\n",
      "4\n",
      "73\n",
      "4\n",
      "74\n",
      "4\n",
      "75\n",
      "2\n",
      "76\n",
      "3\n",
      "77\n",
      "0\n",
      "78\n",
      "4\n",
      "79\n",
      "3\n",
      "80\n",
      "2\n",
      "81\n",
      "4\n",
      "82\n",
      "1\n",
      "83\n",
      "2\n",
      "84\n",
      "1\n",
      "85\n",
      "1\n",
      "86\n",
      "1\n",
      "87\n",
      "0\n",
      "88\n",
      "4\n",
      "89\n",
      "2\n",
      "90\n",
      "3\n",
      "91\n",
      "0\n",
      "92\n",
      "0\n",
      "93\n",
      "1\n",
      "94\n",
      "1\n",
      "95\n",
      "0\n",
      "96\n",
      "0\n",
      "97\n",
      "4\n",
      "98\n",
      "3\n",
      "99\n",
      "4\n",
      "100\n"
     ]
    },
    {
     "ename": "TypeError",
     "evalue": "unsupported operand type(s) for //: 'str' and 'int'",
     "output_type": "error",
     "traceback": [
      "\u001b[0;31m---------------------------------------------------------------------------\u001b[0m",
      "\u001b[0;31mTypeError\u001b[0m                                 Traceback (most recent call last)",
      "\u001b[0;32m<ipython-input-149-9bcb76b1a847>\u001b[0m in \u001b[0;36m<module>\u001b[0;34m\u001b[0m\n\u001b[1;32m     20\u001b[0m         \u001b[0moneEach\u001b[0m \u001b[0;34m+=\u001b[0m \u001b[0;36m1\u001b[0m\u001b[0;34m\u001b[0m\u001b[0;34m\u001b[0m\u001b[0m\n\u001b[1;32m     21\u001b[0m \u001b[0;34m\u001b[0m\u001b[0m\n\u001b[0;32m---> 22\u001b[0;31m \u001b[0mprint\u001b[0m\u001b[0;34m(\u001b[0m\u001b[0;34m\"Both Heads: \"\u001b[0m \u001b[0;34m+\u001b[0m \u001b[0;34m'*'\u001b[0m \u001b[0;34m*\u001b[0m \u001b[0mbothHeads\u001b[0m\u001b[0;34m//\u001b[0m\u001b[0;36m5\u001b[0m\u001b[0;34m)\u001b[0m\u001b[0;34m\u001b[0m\u001b[0;34m\u001b[0m\u001b[0m\n\u001b[0m\u001b[1;32m     23\u001b[0m \u001b[0mprint\u001b[0m\u001b[0;34m(\u001b[0m\u001b[0;34m\"Both Tails: \"\u001b[0m \u001b[0;34m+\u001b[0m \u001b[0;34m'*'\u001b[0m \u001b[0;34m*\u001b[0m \u001b[0mbothTails\u001b[0m\u001b[0;34m//\u001b[0m\u001b[0;36m5\u001b[0m\u001b[0;34m)\u001b[0m\u001b[0;34m\u001b[0m\u001b[0;34m\u001b[0m\u001b[0m\n\u001b[1;32m     24\u001b[0m \u001b[0mprint\u001b[0m\u001b[0;34m(\u001b[0m\u001b[0;34m\"One of Each: \"\u001b[0m \u001b[0;34m+\u001b[0m \u001b[0;34m'*'\u001b[0m \u001b[0;34m*\u001b[0m \u001b[0moneEach\u001b[0m\u001b[0;34m//\u001b[0m\u001b[0;36m5\u001b[0m\u001b[0;34m)\u001b[0m\u001b[0;34m\u001b[0m\u001b[0;34m\u001b[0m\u001b[0m\n",
      "\u001b[0;31mTypeError\u001b[0m: unsupported operand type(s) for //: 'str' and 'int'"
     ]
    }
   ],
   "source": [
    "import random\n",
    "random.seed(0)\n",
    "\n",
    "bothHeads = 0\n",
    "bothTails = 0\n",
    "oneEach = 0\n",
    "\n",
    "i = 0\n",
    "while i < 100 or (bothHeads and bothTails != i // 4):\n",
    "    \n",
    "    flip = random.randint(0,4)\n",
    "    print(flip)\n",
    "    i += 1\n",
    "    print(i)\n",
    "    if flip == 0:\n",
    "        bothHeads += 1\n",
    "    elif flip == 1: \n",
    "        bothTails += 1   \n",
    "    else: \n",
    "        oneEach += 1      \n",
    "        \n",
    "print(\"Both Heads: \" + '*' * bothHeads//5)\n",
    "print(\"Both Tails: \" + '*' * bothTails//5)\n",
    "print(\"One of Each: \" + '*' * oneEach//5)"
   ]
  },
  {
   "cell_type": "code",
   "execution_count": null,
   "metadata": {},
   "outputs": [],
   "source": []
  }
 ],
 "metadata": {
  "celltoolbar": "Raw Cell Format",
  "kernelspec": {
   "display_name": "Python 3",
   "language": "python",
   "name": "python3"
  },
  "language_info": {
   "codemirror_mode": {
    "name": "ipython",
    "version": 3
   },
   "file_extension": ".py",
   "mimetype": "text/x-python",
   "name": "python",
   "nbconvert_exporter": "python",
   "pygments_lexer": "ipython3",
   "version": "3.7.6"
  }
 },
 "nbformat": 4,
 "nbformat_minor": 4
}

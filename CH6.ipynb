{
 "cells": [
  {
   "cell_type": "code",
   "execution_count": 1,
   "metadata": {},
   "outputs": [
    {
     "name": "stdout",
     "output_type": "stream",
     "text": [
      "HEllo, my namE is AlEc and this is a whilE loop.\n"
     ]
    }
   ],
   "source": [
    "string = \"Hello, my name is Alec and this is a while loop.\"\n",
    "\n",
    "#while loop to replace each 'e' with 'E'\n",
    "while string.count('e') > 0:\n",
    "    firstE = string.find('e')\n",
    "    string = string[:firstE] + 'E' + string[firstE+1:]\n",
    "print(string)"
   ]
  },
  {
   "cell_type": "code",
   "execution_count": 2,
   "metadata": {},
   "outputs": [
    {
     "name": "stdout",
     "output_type": "stream",
     "text": [
      "0\n",
      "1\n",
      "2\n"
     ]
    }
   ],
   "source": [
    "i = 0\n",
    "while i < 3:\n",
    "    print(i)\n",
    "    i = i + 1"
   ]
  },
  {
   "cell_type": "markdown",
   "metadata": {},
   "source": [
    "## break statement"
   ]
  },
  {
   "cell_type": "code",
   "execution_count": 4,
   "metadata": {},
   "outputs": [
    {
     "name": "stdout",
     "output_type": "stream",
     "text": [
      "0\n",
      "1\n",
      "2\n",
      "3\n",
      "4\n"
     ]
    }
   ],
   "source": [
    "i = 0\n",
    "while i < 10:\n",
    "    print(i)\n",
    "    if i == 4:\n",
    "        break\n",
    "    i += 1"
   ]
  },
  {
   "cell_type": "markdown",
   "metadata": {},
   "source": [
    "### break-else"
   ]
  },
  {
   "cell_type": "code",
   "execution_count": 7,
   "metadata": {},
   "outputs": [
    {
     "name": "stdout",
     "output_type": "stream",
     "text": [
      "nope\n"
     ]
    }
   ],
   "source": [
    "i = 4\n",
    "if i < 3:\n",
    "    print('yippee')\n",
    "else:\n",
    "    print('nope')"
   ]
  },
  {
   "cell_type": "code",
   "execution_count": 8,
   "metadata": {},
   "outputs": [
    {
     "name": "stdout",
     "output_type": "stream",
     "text": [
      "0\n",
      "1\n",
      "2\n",
      "3\n",
      "4\n",
      "I always execute\n"
     ]
    }
   ],
   "source": [
    "i = 0\n",
    "while i < 10:\n",
    "    print(i)\n",
    "    i += 1\n",
    "    if i == 5:\n",
    "        break\n",
    "else:\n",
    "    print('the loop didnt break')\n",
    "\n",
    "print('I always execute')"
   ]
  },
  {
   "cell_type": "markdown",
   "metadata": {},
   "source": [
    "## continue"
   ]
  },
  {
   "cell_type": "code",
   "execution_count": 11,
   "metadata": {},
   "outputs": [
    {
     "name": "stdout",
     "output_type": "stream",
     "text": [
      "1\n",
      "2\n",
      "3\n",
      "4\n",
      "6\n",
      "7\n",
      "8\n",
      "9\n",
      "10\n"
     ]
    }
   ],
   "source": [
    "#used to skip iterations- restart the loop\n",
    "i = 0\n",
    "while i < 10:\n",
    "    i += 1\n",
    "    if i == 5:\n",
    "        continue\n",
    "    print(i)"
   ]
  },
  {
   "cell_type": "markdown",
   "metadata": {},
   "source": [
    "# Exercises"
   ]
  },
  {
   "cell_type": "code",
   "execution_count": 62,
   "metadata": {},
   "outputs": [
    {
     "name": "stdout",
     "output_type": "stream",
     "text": [
      "Score? 0\n",
      "Roll: 2\n",
      "Roll: 5\n",
      "Roll: 2\n",
      "Roll: 6\n",
      "Roll: 4\n",
      "Roll: 6\n",
      "Turn total: 25\n",
      "New Score: 25\n"
     ]
    }
   ],
   "source": [
    "# Pig game\n",
    "import random\n",
    "turnTotal = 0\n",
    "score = int(input(\"Score? \"))\n",
    "while turnTotal <= 20 and score <= 100:\n",
    "    roll = random.randint(1,6)\n",
    "    print(f\"Roll: {roll}\")\n",
    "    if roll == 1:\n",
    "        turnTotal = 0\n",
    "        break\n",
    "    else:\n",
    "        turnTotal += roll\n",
    "\n",
    "score += turnTotal\n",
    "\n",
    "print(f\"Turn total: {turnTotal}\")\n",
    "print(f\"New Score: {score}\")\n",
    "    "
   ]
  },
  {
   "cell_type": "code",
   "execution_count": 128,
   "metadata": {},
   "outputs": [
    {
     "name": "stdout",
     "output_type": "stream",
     "text": [
      "Roll: 4\n",
      "Roll: 5\n",
      "Roll: 2\n",
      "Roll: 4\n",
      "Roll: 6\n",
      "Turn total: 21\n",
      "New Score: 21\n",
      "Roll: 4\n",
      "Roll: 5\n",
      "Roll: 2\n",
      "Roll: 4\n",
      "Roll: 4\n",
      "Roll: 4\n",
      "Turn total: 23\n",
      "New Score: 44\n",
      "Roll: 2\n",
      "Roll: 3\n",
      "Roll: 1\n",
      "Turn total: 0\n",
      "New Score: 44\n",
      "Roll: 1\n",
      "Turn total: 0\n",
      "New Score: 44\n",
      "Roll: 2\n",
      "Roll: 1\n",
      "Turn total: 0\n",
      "New Score: 44\n",
      "Roll: 3\n",
      "Roll: 5\n",
      "Roll: 5\n",
      "Roll: 1\n",
      "Turn total: 0\n",
      "New Score: 44\n",
      "Roll: 4\n",
      "Roll: 2\n",
      "Roll: 2\n",
      "Roll: 3\n",
      "Roll: 1\n",
      "Turn total: 0\n",
      "New Score: 44\n",
      "Roll: 6\n",
      "Roll: 3\n",
      "Roll: 6\n",
      "Roll: 5\n",
      "Turn total: 20\n",
      "New Score: 64\n",
      "Roll: 3\n",
      "Roll: 5\n",
      "Roll: 2\n",
      "Roll: 3\n",
      "Roll: 5\n",
      "Roll: 6\n",
      "Turn total: 24\n",
      "New Score: 88\n",
      "Roll: 1\n",
      "Turn total: 0\n",
      "New Score: 88\n",
      "Roll: 4\n",
      "Roll: 5\n",
      "Roll: 2\n",
      "Roll: 3\n",
      "Roll: 4\n",
      "Roll: 4\n",
      "Turn total: 22\n",
      "New Score: 110\n",
      "The number of terms was 11\n"
     ]
    }
   ],
   "source": [
    "# Pig game updated\n",
    "import random\n",
    "score = 0\n",
    "turnTotal = 0\n",
    "numberTurns = 0\n",
    "\n",
    "while score <= 100:\n",
    "\n",
    "    roll = random.randint(1,6)\n",
    "    print(f\"Roll: {roll}\")\n",
    "        \n",
    "    if roll == 1:\n",
    "        turnTotal = 0\n",
    "        print(f\"Turn total: {turnTotal}\")\n",
    "        print(f\"New Score: {score}\")\n",
    "        numberTurns += 1\n",
    "\n",
    "    else:\n",
    "        turnTotal += roll\n",
    "        \n",
    "    if turnTotal >= 20:\n",
    "        score += turnTotal\n",
    "        print(f\"Turn total: {turnTotal}\")\n",
    "        print(f\"New Score: {score}\")\n",
    "        turnTotal = 0\n",
    "        numberTurns += 1\n",
    "        \n",
    "print(f\"The number of terms was {numberTurns}\")\n",
    "    \n",
    "   "
   ]
  },
  {
   "cell_type": "code",
   "execution_count": 130,
   "metadata": {},
   "outputs": [
    {
     "name": "stdout",
     "output_type": "stream",
     "text": [
      "Games? 1000\n",
      "Average number of turns: 13.419\n"
     ]
    }
   ],
   "source": [
    "# calculating avg number of turns\n",
    "import random\n",
    "\n",
    "n = int(input(\"Games? \"))\n",
    "numberTurns = 0\n",
    "\n",
    "for i in range(n):\n",
    "    turnTotal = 0\n",
    "    score = 0\n",
    "    while score <= 100:\n",
    "        roll = random.randint(1,6)\n",
    "        if roll == 1:\n",
    "            turnTotal = 0\n",
    "            numberTurns += 1\n",
    "        else:\n",
    "            turnTotal += roll\n",
    "            \n",
    "        if turnTotal >= 20:\n",
    "            score += turnTotal\n",
    "            turnTotal = 0\n",
    "            numberTurns += 1\n",
    "            \n",
    "avg = numberTurns / n\n",
    "print(f\"Average number of turns: {avg}\")\n"
   ]
  },
  {
   "cell_type": "code",
   "execution_count": 137,
   "metadata": {},
   "outputs": [
    {
     "name": "stdout",
     "output_type": "stream",
     "text": [
      "Player 1 score: 0 \n",
      "Player 2 score: 0 \n",
      "It is Player 1's turn\n",
      "Roll: 3\n",
      "Roll: 3\n",
      "Roll: 5\n",
      "Roll: 3\n",
      "Roll: 4\n",
      "Roll: 4\n",
      "Turn total: 22\n",
      "New Score: 22\n",
      "Player 1 score: 22 \n",
      "Player 2 score: 0 \n",
      "It is Player 2's turn.\n",
      "Roll: 3\n",
      "Roll: 5\n",
      "Roll: 5\n",
      "Roll: 6\n",
      "Roll: 6\n",
      "Turn total: 25\n",
      "New Score: 25\n",
      "Player 1 score: 22 \n",
      "Player 2 score: 25 \n",
      "It is Player 1's turn.\n",
      "Roll: 2\n",
      "Roll: 1\n",
      "Turn total: 0\n",
      "New Score: 22\n",
      "Player 1 score: 22 \n",
      "Player 2 score: 25 \n",
      "It is Player 2's turn.\n",
      "Roll: 1\n",
      "Turn total: 0\n",
      "New Score: 25\n",
      "Player 1 score: 22 \n",
      "Player 2 score: 25 \n",
      "It is Player 1's turn.\n",
      "Roll: 2\n",
      "Roll: 4\n",
      "Roll: 3\n",
      "Roll: 4\n",
      "Roll: 4\n",
      "Roll: 2\n",
      "Roll: 6\n",
      "Turn total: 25\n",
      "New Score: 47\n",
      "Player 1 score: 47 \n",
      "Player 2 score: 25 \n",
      "It is Player 2's turn.\n",
      "Roll: 3\n",
      "Roll: 3\n",
      "Roll: 2\n",
      "Roll: 6\n",
      "Roll: 3\n",
      "Roll: 5\n",
      "Turn total: 22\n",
      "New Score: 47\n",
      "Player 1 score: 47 \n",
      "Player 2 score: 47 \n",
      "It is Player 1's turn.\n",
      "Roll: 5\n",
      "Roll: 6\n",
      "Roll: 1\n",
      "Turn total: 0\n",
      "New Score: 47\n",
      "Player 1 score: 47 \n",
      "Player 2 score: 47 \n",
      "It is Player 2's turn.\n",
      "Roll: 6\n",
      "Roll: 3\n",
      "Roll: 5\n",
      "Roll: 5\n",
      "Roll: 2\n",
      "Turn total: 21\n",
      "New Score: 68\n",
      "Player 1 score: 47 \n",
      "Player 2 score: 68 \n",
      "It is Player 1's turn.\n",
      "Roll: 6\n",
      "Roll: 4\n",
      "Roll: 1\n",
      "Turn total: 0\n",
      "New Score: 47\n",
      "Player 1 score: 47 \n",
      "Player 2 score: 68 \n",
      "It is Player 2's turn.\n",
      "Roll: 2\n",
      "Roll: 2\n",
      "Roll: 2\n",
      "Roll: 3\n",
      "Roll: 4\n",
      "Roll: 3\n",
      "Roll: 3\n",
      "Roll: 2\n",
      "Turn total: 21\n",
      "New Score: 89\n",
      "Player 1 score: 47 \n",
      "Player 2 score: 89 \n",
      "It is Player 1's turn.\n",
      "Roll: 2\n",
      "Roll: 4\n",
      "Roll: 4\n",
      "Roll: 1\n",
      "Turn total: 0\n",
      "New Score: 47\n",
      "Player 1 score: 47 \n",
      "Player 2 score: 89 \n",
      "It is Player 2's turn.\n",
      "Roll: 6\n",
      "Roll: 1\n",
      "Turn total: 0\n",
      "New Score: 89\n",
      "Player 1 score: 47 \n",
      "Player 2 score: 89 \n",
      "It is Player 1's turn.\n",
      "Roll: 4\n",
      "Roll: 6\n",
      "Roll: 1\n",
      "Turn total: 0\n",
      "New Score: 47\n",
      "Player 1 score: 47 \n",
      "Player 2 score: 89 \n",
      "It is Player 2's turn.\n",
      "Roll: 5\n",
      "Roll: 2\n",
      "Roll: 4\n",
      "Roll: 1\n",
      "Turn total: 0\n",
      "New Score: 89\n",
      "Player 1 score: 47 \n",
      "Player 2 score: 89 \n",
      "It is Player 1's turn.\n",
      "Roll: 5\n",
      "Roll: 4\n",
      "Roll: 4\n",
      "Roll: 1\n",
      "Turn total: 0\n",
      "New Score: 47\n",
      "Player 1 score: 47 \n",
      "Player 2 score: 89 \n",
      "It is Player 2's turn.\n",
      "Roll: 4\n",
      "Roll: 1\n",
      "Turn total: 0\n",
      "New Score: 89\n",
      "Player 1 score: 47 \n",
      "Player 2 score: 89 \n",
      "It is Player 1's turn.\n",
      "Roll: 4\n",
      "Roll: 5\n",
      "Roll: 2\n",
      "Roll: 6\n",
      "Roll: 6\n",
      "Turn total: 23\n",
      "New Score: 70\n",
      "Player 1 score: 70 \n",
      "Player 2 score: 89 \n",
      "It is Player 2's turn.\n",
      "Roll: 5\n",
      "Roll: 1\n",
      "Turn total: 0\n",
      "New Score: 89\n",
      "Player 1 score: 70 \n",
      "Player 2 score: 89 \n",
      "It is Player 1's turn.\n",
      "Roll: 5\n",
      "Roll: 5\n",
      "Roll: 6\n",
      "Roll: 1\n",
      "Turn total: 0\n",
      "New Score: 70\n",
      "Player 1 score: 70 \n",
      "Player 2 score: 89 \n",
      "It is Player 2's turn.\n",
      "Roll: 3\n",
      "Roll: 6\n",
      "Roll: 3\n",
      "Roll: 2\n",
      "Roll: 6\n",
      "Turn total: 20\n",
      "New Score: 109\n",
      "Player 1 score: 70 \n",
      "Player 2 score: 109 \n",
      "Player 2 Wins!\n"
     ]
    }
   ],
   "source": [
    "# Pig game alternating players\n",
    "import random\n",
    "\n",
    "turnTotal = 0\n",
    "playerOneScore = 0\n",
    "playerTwoScore = 0\n",
    "currentPlayer = 1\n",
    "\n",
    "print(f\"Player 1 score: {playerOneScore} \")\n",
    "print(f\"Player 2 score: {playerTwoScore} \")\n",
    "print(\"It is Player 1's turn\")\n",
    "\n",
    "while playerOneScore <= 100 and playerTwoScore <= 100:\n",
    "\n",
    "    if currentPlayer == 1:\n",
    "        \n",
    "        roll = random.randint(1,6)\n",
    "        print(f\"Roll: {roll}\")\n",
    "\n",
    "        if roll == 1:\n",
    "            turnTotal = 0\n",
    "            print(f\"Turn total: {turnTotal}\")\n",
    "            print(f\"New Score: {playerOneScore}\")\n",
    "            print(f\"Player 1 score: {playerOneScore} \")\n",
    "            print(f\"Player 2 score: {playerTwoScore} \")\n",
    "            print(\"It is Player 2's turn.\")\n",
    "            currentPlayer = currentPlayer * -1\n",
    "\n",
    "        else:\n",
    "            turnTotal += roll\n",
    "\n",
    "        if turnTotal >= 20:\n",
    "            playerOneScore += turnTotal\n",
    "            print(f\"Turn total: {turnTotal}\")\n",
    "            print(f\"New Score: {playerOneScore}\")\n",
    "            print(f\"Player 1 score: {playerOneScore} \")\n",
    "            print(f\"Player 2 score: {playerTwoScore} \")\n",
    "            \n",
    "            if playerOneScore >= 100:\n",
    "                print(\"Player 1 Wins!\")\n",
    "            else:\n",
    "                print(\"It is Player 2's turn.\")\n",
    "                turnTotal = 0\n",
    "                currentPlayer = currentPlayer * -1\n",
    "            \n",
    "    else: \n",
    "        \n",
    "        roll = random.randint(1,6)\n",
    "        print(f\"Roll: {roll}\")\n",
    "\n",
    "        if roll == 1:\n",
    "            turnTotal = 0\n",
    "            print(f\"Turn total: {turnTotal}\")\n",
    "            print(f\"New Score: {playerTwoScore}\")\n",
    "            print(f\"Player 1 score: {playerOneScore} \")\n",
    "            print(f\"Player 2 score: {playerTwoScore} \")\n",
    "            print(\"It is Player 1's turn.\")\n",
    "            currentPlayer = currentPlayer * -1\n",
    "\n",
    "        else:\n",
    "            turnTotal += roll\n",
    "\n",
    "        if turnTotal >= 20:\n",
    "            playerTwoScore += turnTotal\n",
    "            print(f\"Turn total: {turnTotal}\")\n",
    "            print(f\"New Score: {playerTwoScore}\")\n",
    "            print(f\"Player 1 score: {playerOneScore} \")\n",
    "            print(f\"Player 2 score: {playerTwoScore} \")\n",
    "            \n",
    "            if playerTwoScore >= 100:\n",
    "                print(\"Player 2 Wins!\")\n",
    "            else:\n",
    "                print(\"It is Player 1's turn.\")\n",
    "                turnTotal = 0\n",
    "                currentPlayer = currentPlayer * -1\n"
   ]
  },
  {
   "cell_type": "code",
   "execution_count": 155,
   "metadata": {},
   "outputs": [
    {
     "name": "stdout",
     "output_type": "stream",
     "text": [
      "Games? 1\n",
      "Probability of first player win: 100.0\n"
     ]
    }
   ],
   "source": [
    "import random\n",
    "n = int(input(\"Games? \"))\n",
    "gamesWon = 0\n",
    "\n",
    "for i in range(n):\n",
    "    \n",
    "    turnTotal = 0\n",
    "    playerOneScore = 0\n",
    "    playerTwoScore = 0\n",
    "    currentPlayer = 1\n",
    "\n",
    "    while playerOneScore <= 100 and playerTwoScore <= 100:\n",
    "\n",
    "        if currentPlayer == 1:\n",
    "            roll = random.randint(1,6)\n",
    "\n",
    "            if roll == 1:\n",
    "                turnTotal = 0\n",
    "                currentPlayer = currentPlayer * -1\n",
    "            else:\n",
    "                turnTotal += roll\n",
    "\n",
    "            if turnTotal >= 20:\n",
    "                playerOneScore += turnTotal\n",
    "\n",
    "                if playerOneScore >= 100:\n",
    "                    gamesWon += 1\n",
    "                    \n",
    "                else:\n",
    "                    turnTotal = 0\n",
    "                    currentPlayer = currentPlayer * -1\n",
    "\n",
    "        else: \n",
    "            roll = random.randint(1,6)\n",
    "\n",
    "            if roll == 1:\n",
    "                turnTotal = 0\n",
    "                currentPlayer = currentPlayer * -1\n",
    "            else:\n",
    "                turnTotal += roll\n",
    "\n",
    "            if turnTotal >= 20:\n",
    "                playerTwoScore += turnTotal\n",
    "\n",
    "                if playerTwoScore >= 100:\n",
    "                    gamesWon += 0\n",
    "\n",
    "                else:\n",
    "                    turnTotal = 0\n",
    "                    currentPlayer = currentPlayer * -1\n",
    "\n",
    "prob = ( gamesWon / n ) * 100\n",
    "print(f\"Probability of first player win: {prob}\" )"
   ]
  },
  {
   "cell_type": "code",
   "execution_count": 156,
   "metadata": {},
   "outputs": [
    {
     "data": {
      "text/plain": [
       "5"
      ]
     },
     "execution_count": 156,
     "metadata": {},
     "output_type": "execute_result"
    }
   ],
   "source": [
    "def gcd(a,b):\n",
    "    if b > 0:\n",
    "        return gcd(b, a%b)\n",
    "    else:\n",
    "        return a\n",
    "\n",
    "gcd(10,5)"
   ]
  },
  {
   "cell_type": "markdown",
   "metadata": {},
   "source": [
    "# Do while loop"
   ]
  },
  {
   "cell_type": "code",
   "execution_count": null,
   "metadata": {},
   "outputs": [],
   "source": [
    "i = int(input(\"Enter an integer: \"))\n"
   ]
  }
 ],
 "metadata": {
  "celltoolbar": "Raw Cell Format",
  "kernelspec": {
   "display_name": "Python 3",
   "language": "python",
   "name": "python3"
  },
  "language_info": {
   "codemirror_mode": {
    "name": "ipython",
    "version": 3
   },
   "file_extension": ".py",
   "mimetype": "text/x-python",
   "name": "python",
   "nbconvert_exporter": "python",
   "pygments_lexer": "ipython3",
   "version": "3.7.6"
  }
 },
 "nbformat": 4,
 "nbformat_minor": 4
}

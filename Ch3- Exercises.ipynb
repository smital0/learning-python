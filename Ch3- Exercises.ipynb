{
 "cells": [
  {
   "cell_type": "markdown",
   "metadata": {},
   "source": [
    "# Chapter 3 - Strings"
   ]
  },
  {
   "cell_type": "code",
   "execution_count": 14,
   "metadata": {},
   "outputs": [
    {
     "name": "stdout",
     "output_type": "stream",
     "text": [
      "H1llo, my nam13 is Al21c and this is a whil43 loop\n"
     ]
    }
   ],
   "source": [
    "#program to change every 'e' in a string to its respective index.\n",
    "string = 'Hello, my name is Alec and this is a while loop'\n",
    "while string.count('e') != 0:\n",
    "    firstE = string.find('e') # returns index of first 'e'\n",
    "    string = string[:firstE] + str(string.index('e')) + string[firstE + 1:]\n",
    "print(string)"
   ]
  },
  {
   "cell_type": "code",
   "execution_count": 12,
   "metadata": {},
   "outputs": [
    {
     "data": {
      "text/plain": [
       "1"
      ]
     },
     "execution_count": 12,
     "metadata": {},
     "output_type": "execute_result"
    }
   ],
   "source": [
    "string = 'Hello, my name is Alec and this is a while loop'\n",
    "string.index('e')\n"
   ]
  },
  {
   "cell_type": "code",
   "execution_count": 21,
   "metadata": {},
   "outputs": [
    {
     "name": "stdout",
     "output_type": "stream",
     "text": [
      "super-duper-duper-duper-duper-duper-duper-duper-duper-duper-duper-fun\n",
      "-\n",
      "r\n",
      "f\n"
     ]
    }
   ],
   "source": [
    "stringOne = \"super-\"\n",
    "stringTwo = \"duper-\" * 10\n",
    "stringThree = \"fun\"\n",
    "string = stringOne+stringTwo+stringThree\n",
    "print(string)\n",
    "print(string[35])\n",
    "print(string[-35])\n",
    "print(string[-3])"
   ]
  },
  {
   "cell_type": "code",
   "execution_count": 25,
   "metadata": {},
   "outputs": [
    {
     "name": "stdout",
     "output_type": "stream",
     "text": [
      "this is a string with a \n",
      " new line\n",
      "34\n",
      "32\n"
     ]
    }
   ],
   "source": [
    "string = \"this is a string with a \\n new line\"\n",
    "stringTwo = \"this is a string with a new line\"\n",
    "print(string)\n",
    "print(len(string))\n",
    "print(len(stringTwo))"
   ]
  },
  {
   "cell_type": "code",
   "execution_count": 37,
   "metadata": {},
   "outputs": [
    {
     "name": "stdout",
     "output_type": "stream",
     "text": [
      "bdfhjln\n"
     ]
    }
   ],
   "source": [
    "#split the string based on particular index\n",
    "string = \"abcdefghijklmnopqrstuvwxyz\"\n",
    "stringTwo = string[1:string.index('o'):2]\n",
    "print(stringTwo)\n"
   ]
  },
  {
   "cell_type": "code",
   "execution_count": 44,
   "metadata": {},
   "outputs": [
    {
     "name": "stdout",
     "output_type": "stream",
     "text": [
      "smital01\n"
     ]
    }
   ],
   "source": [
    "firstName = \"Alec\"\n",
    "lastName = \"Smith\"\n",
    "userName = lastName[:4].lower() + firstName[:2].lower() + \"01\"\n",
    "print(userName)"
   ]
  },
  {
   "cell_type": "code",
   "execution_count": null,
   "metadata": {},
   "outputs": [],
   "source": []
  }
 ],
 "metadata": {
  "kernelspec": {
   "display_name": "Python 3",
   "language": "python",
   "name": "python3"
  },
  "language_info": {
   "codemirror_mode": {
    "name": "ipython",
    "version": 3
   },
   "file_extension": ".py",
   "mimetype": "text/x-python",
   "name": "python",
   "nbconvert_exporter": "python",
   "pygments_lexer": "ipython3",
   "version": "3.7.6"
  }
 },
 "nbformat": 4,
 "nbformat_minor": 4
}
